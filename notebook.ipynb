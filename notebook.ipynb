{
 "cells": [
  {
   "cell_type": "code",
   "execution_count": 17,
   "metadata": {},
   "outputs": [],
   "source": [
    "import requests\n",
    "from bs4 import BeautifulSoup\n",
    "from lxml import etree as et"
   ]
  },
  {
   "cell_type": "code",
   "execution_count": null,
   "metadata": {},
   "outputs": [],
   "source": [
    "from selenium import webdriver\n",
    "\n",
    "driver = webdriver.Chrome()\n",
    "driver.get('https://jobs.ca-cib.com/offre-de-emploi/liste-offres.aspx')\n",
    "content = driver.page_source"
   ]
  },
  {
   "cell_type": "code",
   "execution_count": 28,
   "metadata": {},
   "outputs": [
    {
     "data": {
      "text/html": [
       "<div>\n",
       "<style scoped>\n",
       "    .dataframe tbody tr th:only-of-type {\n",
       "        vertical-align: middle;\n",
       "    }\n",
       "\n",
       "    .dataframe tbody tr th {\n",
       "        vertical-align: top;\n",
       "    }\n",
       "\n",
       "    .dataframe thead th {\n",
       "        text-align: right;\n",
       "    }\n",
       "</style>\n",
       "<table border=\"1\" class=\"dataframe\">\n",
       "  <thead>\n",
       "    <tr style=\"text-align: right;\">\n",
       "      <th></th>\n",
       "      <th>id</th>\n",
       "      <th>date</th>\n",
       "      <th>titre</th>\n",
       "      <th>lien</th>\n",
       "      <th>lieu</th>\n",
       "      <th>categorie</th>\n",
       "      <th>debut</th>\n",
       "    </tr>\n",
       "  </thead>\n",
       "  <tbody>\n",
       "    <tr>\n",
       "      <th>0</th>\n",
       "      <td>240002P4</td>\n",
       "      <td>2024-02-06 00:15:01</td>\n",
       "      <td>Analyste Origination Equity-Linked (ECM)</td>\n",
       "      <td>https://careers.societegenerale.com/offres-d-e...</td>\n",
       "      <td>La Defense, France</td>\n",
       "      <td>Corporate &amp; Investment banking</td>\n",
       "      <td>01/07/2024</td>\n",
       "    </tr>\n",
       "    <tr>\n",
       "      <th>1</th>\n",
       "      <td>24000292</td>\n",
       "      <td>2024-01-31 14:15:01</td>\n",
       "      <td>Conseiller Fusion-Acquisition</td>\n",
       "      <td>https://careers.societegenerale.com/offres-d-e...</td>\n",
       "      <td>La Defense, France</td>\n",
       "      <td>Corporate &amp; Investment banking</td>\n",
       "      <td>01/07/2024</td>\n",
       "    </tr>\n",
       "    <tr>\n",
       "      <th>2</th>\n",
       "      <td>240002OR</td>\n",
       "      <td>2024-01-31 10:15:01</td>\n",
       "      <td>Chargé de financement de projets</td>\n",
       "      <td>https://careers.societegenerale.com/offres-d-e...</td>\n",
       "      <td>La Defense, France</td>\n",
       "      <td>Corporate &amp; Investment banking</td>\n",
       "      <td>01/07/2024</td>\n",
       "    </tr>\n",
       "    <tr>\n",
       "      <th>3</th>\n",
       "      <td>240001VN</td>\n",
       "      <td>2024-01-26 14:15:01</td>\n",
       "      <td>Analyste Corporate Finance (M&amp;A/ECM)</td>\n",
       "      <td>https://careers.societegenerale.com/offres-d-e...</td>\n",
       "      <td>La Defense, France</td>\n",
       "      <td>Corporate &amp; Investment banking</td>\n",
       "      <td>01/07/2024</td>\n",
       "    </tr>\n",
       "  </tbody>\n",
       "</table>\n",
       "</div>"
      ],
      "text/plain": [
       "         id                date                                     titre  \\\n",
       "0  240002P4 2024-02-06 00:15:01  Analyste Origination Equity-Linked (ECM)   \n",
       "1  24000292 2024-01-31 14:15:01             Conseiller Fusion-Acquisition   \n",
       "2  240002OR 2024-01-31 10:15:01          Chargé de financement de projets   \n",
       "3  240001VN 2024-01-26 14:15:01      Analyste Corporate Finance (M&A/ECM)   \n",
       "\n",
       "                                                lien                lieu  \\\n",
       "0  https://careers.societegenerale.com/offres-d-e...  La Defense, France   \n",
       "1  https://careers.societegenerale.com/offres-d-e...  La Defense, France   \n",
       "2  https://careers.societegenerale.com/offres-d-e...  La Defense, France   \n",
       "3  https://careers.societegenerale.com/offres-d-e...  La Defense, France   \n",
       "\n",
       "                        categorie       debut  \n",
       "0  Corporate & Investment banking  01/07/2024  \n",
       "1  Corporate & Investment banking  01/07/2024  \n",
       "2  Corporate & Investment banking  01/07/2024  \n",
       "3  Corporate & Investment banking  01/07/2024  "
      ]
     },
     "execution_count": 28,
     "metadata": {},
     "output_type": "execute_result"
    }
   ],
   "source": [
    "import pandas as pd \n",
    "from datetime import datetime\n",
    "\n",
    "df = pd.read_json('json/data.json')\n",
    "df = df.replace(\"immediat\", datetime.now().strftime(\"%d/%m/%Y\"))\n",
    "df[\"debut\"] = pd.to_datetime(df[\"debut\"], dayfirst=True)\n",
    "df = df[df[\"debut\"] > datetime(2024, 6, 30)]\n",
    "df[\"debut\"] = df[\"debut\"].dt.strftime('%d/%m/%Y')\n",
    "df = df.astype({\"debut\": str})\n",
    "df = df.reset_index().drop(\"index\", axis=1)\n",
    "df"
   ]
  }
 ],
 "metadata": {
  "kernelspec": {
   "display_name": "quant",
   "language": "python",
   "name": "python3"
  },
  "language_info": {
   "codemirror_mode": {
    "name": "ipython",
    "version": 3
   },
   "file_extension": ".py",
   "mimetype": "text/x-python",
   "name": "python",
   "nbconvert_exporter": "python",
   "pygments_lexer": "ipython3",
   "version": "3.11.6"
  }
 },
 "nbformat": 4,
 "nbformat_minor": 2
}
